{
 "cells": [
  {
   "cell_type": "markdown",
   "metadata": {},
   "source": [
    "### Reading, writing and displaying images with openCV"
   ]
  },
  {
   "cell_type": "code",
   "execution_count": 1,
   "metadata": {},
   "outputs": [],
   "source": [
    "import cv2\n",
    "import numpy as np"
   ]
  },
  {
   "cell_type": "code",
   "execution_count": 4,
   "metadata": {},
   "outputs": [],
   "source": [
    "\n",
    "img = cv2.imread('./photos/cat.jpg')\n",
    "cv2.imshow('This is Felix:', img)\n",
    "cv2.waitKey() #allows us to impit information when an image window is open\n",
    "cv2.destroyAllWindows()\n"
   ]
  },
  {
   "cell_type": "markdown",
   "metadata": {},
   "source": [
    "###Closer look at the image"
   ]
  },
  {
   "cell_type": "code",
   "execution_count": 6,
   "metadata": {},
   "outputs": [
    {
     "name": "stdout",
     "output_type": "stream",
     "text": [
      "(427, 640, 3)\n"
     ]
    }
   ],
   "source": [
    "print(img.shape)\n",
    "#displays the  height and width of image and 3 means there are 3 components (RGB)"
   ]
  },
  {
   "cell_type": "code",
   "execution_count": 7,
   "metadata": {},
   "outputs": [
    {
     "name": "stdout",
     "output_type": "stream",
     "text": [
      "Height of the image: 427 pixels\n",
      "Width of the image: 640 pixels\n"
     ]
    }
   ],
   "source": [
    "#printing each dimension of the image\n",
    "print(f'Height of the image: {int(img.shape[0])} pixels')\n",
    "print(f'Width of the image: {int(img.shape[1])} pixels')"
   ]
  },
  {
   "cell_type": "markdown",
   "metadata": {},
   "source": [
    "### Saving an image edited in open cv"
   ]
  },
  {
   "cell_type": "code",
   "execution_count": 9,
   "metadata": {},
   "outputs": [
    {
     "name": "stdout",
     "output_type": "stream",
     "text": [
      "Converted images were saved in ./photos/saved/\n"
     ]
    }
   ],
   "source": [
    "import os \n",
    "input_image_path = './photos/cat.jpg' # input path\n",
    "img = cv2.imread(input_image_path) # read image\n",
    "output_folder_path = './photos/saved/'  # output path\n",
    "#create output folder if it does not exist\n",
    "if not os.path.exists(output_folder_path):\n",
    "  os.makedirs(output_folder_path)\n",
    "\n",
    "#save the image in both JPEG and PNG\n",
    "output_image_jpg = os.path.join(output_folder_path, 'Felix.jpg')\n",
    "output_image_png = os.path.join(output_folder_path, 'Felix.png')\n",
    "#use the 'imwrite' method specifying the filename and image to be saved\n",
    "cv2.imwrite(output_image_jpg, img)\n",
    "cv2.imwrite(output_image_png, img)\n",
    "\n",
    "#display confirmation message\n",
    "print(f'Converted images were saved in {output_folder_path}')"
   ]
  }
 ],
 "metadata": {
  "kernelspec": {
   "display_name": "Python 3",
   "language": "python",
   "name": "python3"
  },
  "language_info": {
   "codemirror_mode": {
    "name": "ipython",
    "version": 3
   },
   "file_extension": ".py",
   "mimetype": "text/x-python",
   "name": "python",
   "nbconvert_exporter": "python",
   "pygments_lexer": "ipython3",
   "version": "3.11.4"
  },
  "orig_nbformat": 4
 },
 "nbformat": 4,
 "nbformat_minor": 2
}
