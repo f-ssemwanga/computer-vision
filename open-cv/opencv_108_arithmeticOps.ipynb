{
 "cells": [
  {
   "cell_type": "markdown",
   "metadata": {},
   "source": [
    "### Arithmetic operations\n",
    "- Arithmetic operations allow us to add to directly or subtract color intensity.\n",
    "- calculates the per-element operation of two arrays.  The overall effect is increasing or decreasing the brightness."
   ]
  },
  {
   "cell_type": "code",
   "execution_count": 2,
   "metadata": {},
   "outputs": [],
   "source": [
    "import cv2\n",
    "import numpy as np\n",
    "img = cv2.imread('./photos/lady.jpg')\n",
    "\n",
    "#create a matrix of ones and multiply it by a scalar of 100\n",
    "#results in a matrix with the same dimensions of our image with all values being 100\n",
    "\n",
    "M = np.ones(img.shape, dtype = 'uint8') * 75\n",
    "\n",
    "#add the matrix M, to the image\n",
    "#this has the effect of increasing the brightness\n",
    "\n",
    "added = cv2.add(img, M)\n",
    "cv2.imshow('Added', added)\n",
    "\n",
    "#Subtracting - decreases the brightness\n",
    "subtracted = cv2.subtract(img, M)\n",
    "cv2.imshow('Subtracted', subtracted)\n",
    "\n",
    "cv2.waitKey(0)\n",
    "cv2.destroyAllWindows()\n"
   ]
  },
  {
   "cell_type": "markdown",
   "metadata": {},
   "source": [
    "### Note from the above operation that some clipping is applied as the maximum value for the pixes is 255 "
   ]
  },
  {
   "cell_type": "markdown",
   "metadata": {},
   "source": [
    "### Bitwise Operations and Masking"
   ]
  },
  {
   "cell_type": "code",
   "execution_count": 4,
   "metadata": {},
   "outputs": [
    {
     "data": {
      "text/plain": [
       "-1"
      ]
     },
     "execution_count": 4,
     "metadata": {},
     "output_type": "execute_result"
    }
   ],
   "source": [
    "import cv2\n",
    "import numpy as np2\n",
    "\n",
    "#making a square\n",
    "square = np.zeros((300,300), np.uint8)\n",
    "cv2.rectangle(square, (50,50), (250, 250), 255, -2)\n",
    "cv2.imshow('Square', square)\n",
    "cv2.waitKey()\n",
    "\n",
    "#making an elipse\n",
    "ellipse = np.zeros((300,300), np.uint8)\n",
    "cv2.ellipse(ellipse, (150,150), (150, 150), 30, 0, 180, 255, -1)\n",
    "cv2.imshow('Ellipse', ellipse)\n",
    "cv2.waitKey()\n",
    "cv2.destroyAllWindows()"
   ]
  },
  {
   "cell_type": "markdown",
   "metadata": {},
   "source": [
    "### Experimenting with bitwise Operations\n",
    "\n",
    "- note that the square and ellipse must be of the same dimension\n",
    "- only works on binary type of image i.e. black and white\n"
   ]
  },
  {
   "cell_type": "code",
   "execution_count": 5,
   "metadata": {},
   "outputs": [
    {
     "data": {
      "text/plain": [
       "-1"
      ]
     },
     "execution_count": 5,
     "metadata": {},
     "output_type": "execute_result"
    }
   ],
   "source": [
    "#shows only where they intersect\n",
    "And  = cv2.bitwise_and(square, ellipse)\n",
    "cv2.imshow('AND', And)\n",
    "cv2.waitKey(0)\n",
    "\n",
    "#shows where either square or ellipse  is\n",
    "bitwiseOr  = cv2.bitwise_or(square, ellipse)\n",
    "cv2.imshow('OR', bitwiseOr)\n",
    "cv2.waitKey(0)\n",
    "\n",
    "#shows where either exist by itself\n",
    "bitwiseXor  = cv2.bitwise_xor(square, ellipse)\n",
    "cv2.imshow('XOR', bitwiseXor)\n",
    "cv2.waitKey(0)\n",
    "\n",
    "#shows everything that isn't part of the square\n",
    "bitwiseNot_sq  = cv2.bitwise_not(square)\n",
    "cv2.imshow('NOT - Square', bitwiseNot_sq)\n",
    "cv2.waitKey(0)\n",
    "\n",
    "cv2.destroyAllWindows()"
   ]
  }
 ],
 "metadata": {
  "kernelspec": {
   "display_name": "cv",
   "language": "python",
   "name": "python3"
  },
  "language_info": {
   "codemirror_mode": {
    "name": "ipython",
    "version": 3
   },
   "file_extension": ".py",
   "mimetype": "text/x-python",
   "name": "python",
   "nbconvert_exporter": "python",
   "pygments_lexer": "ipython3",
   "version": "3.11.4"
  },
  "orig_nbformat": 4
 },
 "nbformat": 4,
 "nbformat_minor": 2
}
