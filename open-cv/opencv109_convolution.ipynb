{
 "cells": [
  {
   "cell_type": "markdown",
   "metadata": {},
   "source": [
    "#### Convolutions and Blurring"
   ]
  },
  {
   "cell_type": "code",
   "execution_count": 1,
   "metadata": {},
   "outputs": [],
   "source": [
    "import cv2\n",
    "import numpy as np\n",
    "\n",
    "img = cv2.imread('./photos/lady.jpg')\n",
    "cv2.imshow('Original image', img)\n",
    "cv2.waitKey(0)\n",
    "\n",
    "#creating a 3 x 3 Kernel\n",
    "Kernel_3x3 = np.ones((3,3), np.float32)/9\n",
    "\n",
    "#use cv2.filter2D to convolve the kernel with an image\n",
    "blurred = cv2.filter2D(img, -1, Kernel_3x3)\n",
    "cv2.imshow('3X3 Kernel Blurring', blurred)\n",
    "cv2.waitKey(0)\n",
    "\n",
    "#creating a 7 x 7 Kernel\n",
    "Kernel_7x7 = np.ones((7,7), np.float32)/49\n",
    "\n",
    "#use cv2.filter2D to convolve the kernel with an image\n",
    "blurred2 = cv2.filter2D(img, -1, Kernel_7x7)\n",
    "cv2.imshow('7X7 Kernel Blurring', blurred2)\n",
    "cv2.waitKey(0)\n",
    "\n",
    "cv2.destroyAllWindows()"
   ]
  }
 ],
 "metadata": {
  "kernelspec": {
   "display_name": "cv",
   "language": "python",
   "name": "python3"
  },
  "language_info": {
   "codemirror_mode": {
    "name": "ipython",
    "version": 3
   },
   "file_extension": ".py",
   "mimetype": "text/x-python",
   "name": "python",
   "nbconvert_exporter": "python",
   "pygments_lexer": "ipython3",
   "version": "3.11.4"
  },
  "orig_nbformat": 4
 },
 "nbformat": 4,
 "nbformat_minor": 2
}
