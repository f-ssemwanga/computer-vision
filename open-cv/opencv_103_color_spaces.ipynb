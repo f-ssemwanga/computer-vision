{
 "cells": [
  {
   "cell_type": "markdown",
   "metadata": {},
   "source": [
    "### OpenCV's RGB is its BGR"
   ]
  },
  {
   "cell_type": "code",
   "execution_count": 1,
   "metadata": {},
   "outputs": [],
   "source": [
    "import cv2\n",
    "import numpy as np\n",
    "img = cv2.imread('./photos/lady.jpg')"
   ]
  },
  {
   "cell_type": "markdown",
   "metadata": {},
   "source": [
    "### Examining individual colour levels for the pixel (0.0)"
   ]
  },
  {
   "cell_type": "code",
   "execution_count": 9,
   "metadata": {},
   "outputs": [
    {
     "name": "stdout",
     "output_type": "stream",
     "text": [
      "82 81 85\n",
      "(685, 637, 3)\n"
     ]
    }
   ],
   "source": [
    "#BGR values for the first (0,0) pixel\n",
    "B, G, R = img[0, 0]\n",
    "print(B, G, R)\n",
    "print(img.shape)"
   ]
  },
  {
   "cell_type": "code",
   "execution_count": 6,
   "metadata": {},
   "outputs": [
    {
     "name": "stdout",
     "output_type": "stream",
     "text": [
      "(685, 637)\n"
     ]
    }
   ],
   "source": [
    "#Let us convert the image to greyscale\n",
    "gray_img = cv2.cvtColor(img, cv2.COLOR_BGR2GRAY)\n",
    "print(gray_img.shape)"
   ]
  },
  {
   "cell_type": "markdown",
   "metadata": {},
   "source": [
    "***Notice that the greyscale image is 2 dimensional .  Each coordinate has only one value (previously 3) with a range of 0 to 255***"
   ]
  },
  {
   "cell_type": "markdown",
   "metadata": {},
   "source": [
    "### Effect of HSV colour filtering"
   ]
  },
  {
   "cell_type": "code",
   "execution_count": 10,
   "metadata": {},
   "outputs": [],
   "source": [
    "#H: 0 - 180, S: 0 - 255, V:0 - 255\n",
    "img = cv2.imread('./photos/cat.jpg')\n",
    "hsv_image = cv2.cvtColor(img, cv2.COLOR_BGR2HSV)\n",
    "\n",
    "cv2.imshow('HSV image', hsv_image)\n",
    "cv2.imshow('Hue Channel', hsv_image[:, :, 0]) # only goes from 0 to 180\n",
    "cv2.imshow('Saturation Channel', hsv_image[:, :, 1])\n",
    "cv2.imshow('Value Channel', hsv_image[:, :, 2])\n",
    "\n",
    "cv2.waitKey()\n",
    "cv2.destroyAllWindows()\n"
   ]
  },
  {
   "cell_type": "markdown",
   "metadata": {},
   "source": [
    "### Exploring an individual channel in the RGB image"
   ]
  },
  {
   "cell_type": "code",
   "execution_count": 2,
   "metadata": {},
   "outputs": [
    {
     "name": "stdout",
     "output_type": "stream",
     "text": [
      "(685, 637)\n"
     ]
    }
   ],
   "source": [
    "img = cv2.imread('./photos/lady.jpg')\n",
    "\n",
    "B, G, R = cv2.split(img) #use the opencv split function to split the image into different colour indexes\n",
    "\n",
    "print( B.shape)\n",
    "cv2.imshow(\"Red\", R)\n",
    "cv2.imshow(\"Green\", G)\n",
    "cv2.imshow(\"Blue\", B)\n",
    "cv2.waitKey(0)\n",
    "cv2.destroyAllWindows()\n",
    "\n",
    "#let us remake the image\n",
    "merged = cv2.merge(([B,G,R]))\n",
    "cv2.imshow(\"Merged\", merged)\n",
    "\n",
    "#let us amplify the blue colour\n",
    "merged = cv2.merge([B+100, G, R])\n",
    "cv2.imshow(\"Merged with Blue Amplofied\", merged)\n",
    "cv2.waitKey(0)\n",
    "cv2.destroyAllWindows()\n"
   ]
  },
  {
   "cell_type": "markdown",
   "metadata": {},
   "source": [
    "#### Note\n",
    " - Splitting the image in the above cell converts it to Grey scale and hence the colours R, G and B will display as black and white.\n",
    " - TO actually see the colours we could use the np.zeros to generate an array of zeros with the same shape as the image and insert them into the positions of the colours we do not wish to see. This is demonstrated in the code below:"
   ]
  },
  {
   "cell_type": "code",
   "execution_count": 3,
   "metadata": {},
   "outputs": [],
   "source": [
    "import cv2\n",
    "import numpy as  np\n",
    "img = cv2.imread('./photos/lady.jpg')\n",
    "B, G, R = cv2.split(img)\n",
    "\n",
    "#let us create a matrix of zeros with \n",
    "#dimensions of the image h x w\n",
    "zeros = np.zeros(img.shape[:2],  dtype = \"uint8\")\n",
    "cv2.imshow(\"Red\", cv2.merge([zeros, zeros, R]))\n",
    "cv2.imshow(\"Green\", cv2.merge([zeros, G, zeros]))\n",
    "cv2.imshow(\"Blue\", cv2.merge([B, zeros, zeros]))\n",
    "\n",
    "cv2.waitKey(0)\n",
    "cv2.destroyAllWindows()\n",
    "\n"
   ]
  }
 ],
 "metadata": {
  "kernelspec": {
   "display_name": "cv",
   "language": "python",
   "name": "python3"
  },
  "language_info": {
   "codemirror_mode": {
    "name": "ipython",
    "version": 3
   },
   "file_extension": ".py",
   "mimetype": "text/x-python",
   "name": "python",
   "nbconvert_exporter": "python",
   "pygments_lexer": "ipython3",
   "version": "3.11.4"
  },
  "orig_nbformat": 4
 },
 "nbformat": 4,
 "nbformat_minor": 2
}
