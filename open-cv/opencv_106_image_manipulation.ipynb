{
 "cells": [
  {
   "cell_type": "markdown",
   "metadata": {},
   "source": [
    "### Image Manipulation\n",
    "- Transformations, affine and non affine\n",
    "- Translations\n",
    "- Rotations\n",
    "- Scaling, resizing and interpolations\n",
    "- image pyramids\n",
    "- Cropping\n",
    "- Arithmetic Operations\n",
    "- Bitwise operations and Masking \n",
    "- Convolutions and Blurring\n",
    "- Sharpening\n",
    "- Threshold and Binarization\n",
    "- Dilation, erosion, opening and closing\n",
    "- Edge Detection and image gradients\n",
    "- Perspective and Affine Transforms\n"
   ]
  },
  {
   "cell_type": "markdown",
   "metadata": {},
   "source": [
    "#### Implementing Translations using openCV\n",
    "- use cv2.warpAffine to implement these transformations"
   ]
  },
  {
   "cell_type": "code",
   "execution_count": 1,
   "metadata": {},
   "outputs": [],
   "source": [
    "import cv2\n",
    "import numpy as np\n",
    "img = cv2.imread('./photos/lady.jpg')\n",
    "\n",
    "#store height and width of the image\n",
    "height, width = img.shape[:2]\n",
    "\n",
    "quarter_height, quarter_width = height/4, width/4\n",
    "\n",
    "#      | 1 0 Tx |\n",
    "#  T = | 0 1 Ty |\n",
    "\n",
    "#T is our translation Matrix\n",
    "T = np.float32([[1,0, quarter_width], [0, 1, quarter_height]])\n",
    "\n",
    "#using warpAffine transform the image using the matrix T\n",
    "img_translation  = cv2.warpAffine(img, T, (width, height))\n",
    "cv2.imshow('Translation', img_translation)\n",
    "cv2.waitKey()\n",
    "cv2.destroyAllWindows()"
   ]
  },
  {
   "cell_type": "markdown",
   "metadata": {},
   "source": [
    "#### implementing Rotations in openCV\n",
    "\n",
    "- cv2.getRotationMatrix2D(rotation_center_x, rotation_center_y, angle of rotation , scale)\n"
   ]
  },
  {
   "cell_type": "code",
   "execution_count": 5,
   "metadata": {},
   "outputs": [],
   "source": [
    "import cv2\n",
    "import numpy as np\n",
    "img = cv2.imread('./photos/lady.jpg')\n",
    "#store height and width of the image\n",
    "height, width = img.shape[:2]\n",
    "\n",
    "#divide by two to rotate the image around its center\n",
    "rotation_matrix = cv2.getRotationMatrix2D((width/2, height/2), 90, .5) # 1 is the scaling factor and 90 is angle of rotation\n",
    "rotated_img = cv2.warpAffine(img, rotation_matrix, (width, height))\n",
    "\n",
    "cv2.imshow('Rotated Image', rotated_img)\n",
    "cv2.waitKey()\n",
    "cv2.destroyAllWindows()"
   ]
  },
  {
   "cell_type": "code",
   "execution_count": 6,
   "metadata": {},
   "outputs": [],
   "source": [
    "#Another method for simple rotation is to use the transpose method\n",
    "img = cv2.imread('./photos/lady.jpg')\n",
    "rotated_img = cv2.transpose(img)\n",
    "\n",
    "cv2.imshow('Rotated Image', rotated_img)\n",
    "cv2.waitKey()\n",
    "cv2.destroyAllWindows()"
   ]
  }
 ],
 "metadata": {
  "kernelspec": {
   "display_name": "cv",
   "language": "python",
   "name": "python3"
  },
  "language_info": {
   "codemirror_mode": {
    "name": "ipython",
    "version": 3
   },
   "file_extension": ".py",
   "mimetype": "text/x-python",
   "name": "python",
   "nbconvert_exporter": "python",
   "pygments_lexer": "ipython3",
   "version": "3.11.4"
  },
  "orig_nbformat": 4
 },
 "nbformat": 4,
 "nbformat_minor": 2
}
