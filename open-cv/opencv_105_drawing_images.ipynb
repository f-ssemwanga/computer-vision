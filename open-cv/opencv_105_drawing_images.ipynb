{
 "cells": [
  {
   "cell_type": "markdown",
   "metadata": {},
   "source": [
    "#### Drawing images and shapes using OpenCV"
   ]
  },
  {
   "cell_type": "code",
   "execution_count": 4,
   "metadata": {},
   "outputs": [],
   "source": [
    "\n",
    "import cv2\n",
    "import numpy as np\n",
    "\n",
    "#create a black image\n",
    "img = np.zeros((512, 512, 3), np.uint8)\n",
    "\n",
    "#create a black and white rectangle\n",
    "img_bw = np.zeros((512, 512), np.uint8)\n",
    "\n",
    "cv2.imshow('Black Rectangle (color)', img)\n",
    "cv2.imshow('Black Rectangle (B&W)', img_bw)\n",
    "\n",
    "cv2.waitKey(0)\n",
    "cv2.destroyAllWindows()"
   ]
  },
  {
   "cell_type": "markdown",
   "metadata": {},
   "source": [
    "#### Let us draw a line across the black square\n",
    "- cv2.line(image, starting coordinates, ending coordinates, colour and thickness)"
   ]
  },
  {
   "cell_type": "code",
   "execution_count": 5,
   "metadata": {},
   "outputs": [],
   "source": [
    "#Draw a diagonal blue line of thickness of 5 pixels\n",
    "image = np.zeros((512, 512, 3), np.uint8)\n",
    "cv2.line(image, (0,0), (511, 511), (255, 127, 0), 5)\n",
    "cv2.imshow(\"Blue Line\", image)\n",
    "\n",
    "cv2.waitKey(0)\n",
    "cv2.destroyAllWindows()"
   ]
  },
  {
   "cell_type": "markdown",
   "metadata": {},
   "source": [
    "#### Let us draw a rectangle\n",
    "- cv2.line(image, starting vertex, opposite vertex, colour and thickness)"
   ]
  },
  {
   "cell_type": "code",
   "execution_count": 7,
   "metadata": {},
   "outputs": [],
   "source": [
    "image = np.zeros((512, 512, 3), np.uint8)\n",
    "cv2.rectangle(image, (100,100), (300, 250), (127, 50, 127), -1) # notice -1 fills the rectangle\n",
    "cv2.imshow(\"rectangle\", image)\n",
    "\n",
    "cv2.waitKey(0)\n",
    "cv2.destroyAllWindows()"
   ]
  },
  {
   "cell_type": "markdown",
   "metadata": {},
   "source": [
    "#### Let us draw a circlegle\n",
    "- cv2.line(image, center, radius, colour, fill)"
   ]
  },
  {
   "cell_type": "code",
   "execution_count": 8,
   "metadata": {},
   "outputs": [],
   "source": [
    "image = np.zeros((512, 512, 3), np.uint8)\n",
    "cv2.circle(image, (350,350), 100, (15, 75, 50), -1) \n",
    "cv2.imshow(\"Circle\", image)\n",
    "\n",
    "cv2.waitKey(0)\n",
    "cv2.destroyAllWindows()"
   ]
  },
  {
   "cell_type": "markdown",
   "metadata": {},
   "source": [
    "#### polygons?\n"
   ]
  },
  {
   "cell_type": "code",
   "execution_count": 9,
   "metadata": {},
   "outputs": [],
   "source": [
    "image = np.zeros((512, 512, 3), np.uint8)\n",
    "\n",
    "#let us define four points\n",
    "pts = np.array([[10, 50], [400, 50], [90, 200], [50, 500]], np.int32)\n",
    "\n",
    "#reshape the points in the form required by the polylines\n",
    "pts = pts.reshape((-1, 1, 2))\n",
    "\n",
    "cv2.polylines (image, [pts], True, (0,0,255), 3) # true is for whether the polygon is closed or not\n",
    "cv2.imshow(\"Polygon\", image)\n",
    "\n",
    "cv2.waitKey(0)\n",
    "cv2.destroyAllWindows()"
   ]
  },
  {
   "cell_type": "markdown",
   "metadata": {},
   "source": [
    "### Let us add text with cv2.putText\n",
    "- cv2.putText(image, 'Text to Display', bottom left starting point, Font, Font Size, Color, Thickness)\n",
    "- FONT_HERSHEY_SIMPLEX, FONT_HERSHEY_PLAN\n",
    "- FONT_HERSHEY_DUPLEX, FONT_HERSHEY_COMPLEX\n",
    "- FONT_HERSHEY_TRIPLEX, FONT_HERSHEY_COMPLEX_SMALL\n",
    "- FONT_HERSHEY_SCRIPT_SIMPLEX\n",
    "- FONT_HERSHEY_SCRIPT_COMPLEX"
   ]
  },
  {
   "cell_type": "code",
   "execution_count": 12,
   "metadata": {},
   "outputs": [],
   "source": [
    "\n",
    "image = np.zeros((512, 512, 3), np.uint8)\n",
    "cv2.putText(image, 'Some Text', (75, 290), cv2.FONT_HERSHEY_COMPLEX, 2, (100, 170, 0), 3)\n",
    "cv2.imshow(\"Some Text\", image)\n",
    "\n",
    "cv2.waitKey(0)\n",
    "cv2.destroyAllWindows()"
   ]
  }
 ],
 "metadata": {
  "kernelspec": {
   "display_name": "cv",
   "language": "python",
   "name": "python3"
  },
  "language_info": {
   "codemirror_mode": {
    "name": "ipython",
    "version": 3
   },
   "file_extension": ".py",
   "mimetype": "text/x-python",
   "name": "python",
   "nbconvert_exporter": "python",
   "pygments_lexer": "ipython3",
   "version": "3.11.4"
  },
  "orig_nbformat": 4
 },
 "nbformat": 4,
 "nbformat_minor": 2
}
