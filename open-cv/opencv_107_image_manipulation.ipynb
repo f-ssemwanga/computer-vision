{
 "cells": [
  {
   "cell_type": "markdown",
   "metadata": {},
   "source": [
    "####Cropping images\n",
    "- Open CV does not have a cropping function however we can manipulate a numpy array to achieve cropping"
   ]
  },
  {
   "cell_type": "code",
   "execution_count": 9,
   "metadata": {},
   "outputs": [],
   "source": [
    "import cv2\n",
    "import numpy as np\n",
    "\n",
    "img = cv2.imread('./photos/cat.jpg')\n",
    "height, width = img.shape[:2]\n",
    "\n",
    "# get the starting pixel coordinates (top left corner of the cropping triangle)\n",
    "start_row, start_col = int(height * .25), int(width * .25)\n",
    "\n",
    "#get ending pixel coordinates (bottom right)\n",
    "end_row, end_col = int(height * .75) , int(width * .75)\n",
    "\n",
    "#use indexing to crop out the desired rectangle\n",
    "cropped = img[start_row:end_row, start_col:end_col]\n",
    "\n",
    "cv2.imshow('Original Image', img)\n",
    "cv2.waitKey(0)\n",
    "cv2.imshow('Cropped Image', cropped)\n",
    "cv2.waitKey(0)\n",
    "cv2.destroyAllWindows()\n",
    "\n"
   ]
  }
 ],
 "metadata": {
  "kernelspec": {
   "display_name": "cv",
   "language": "python",
   "name": "python3"
  },
  "language_info": {
   "codemirror_mode": {
    "name": "ipython",
    "version": 3
   },
   "file_extension": ".py",
   "mimetype": "text/x-python",
   "name": "python",
   "nbconvert_exporter": "python",
   "pygments_lexer": "ipython3",
   "version": "3.11.4"
  },
  "orig_nbformat": 4
 },
 "nbformat": 4,
 "nbformat_minor": 2
}
